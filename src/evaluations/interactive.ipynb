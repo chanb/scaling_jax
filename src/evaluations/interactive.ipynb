{
 "cells": [
  {
   "cell_type": "code",
   "execution_count": null,
   "id": "b2e25360",
   "metadata": {},
   "outputs": [],
   "source": [
    "import sys\n",
    "\n",
    "sys.path.insert(0, \"../..\")"
   ]
  },
  {
   "cell_type": "code",
   "execution_count": null,
   "id": "ab236084",
   "metadata": {},
   "outputs": [],
   "source": [
    "import os\n",
    "import chex\n",
    "import dill\n",
    "import jax\n",
    "import jax.numpy as jnp\n",
    "import json\n",
    "import numpy as np\n",
    "\n",
    "from flax import nnx\n",
    "from torch.utils.data import DataLoader\n",
    "\n",
    "from src.dataset import get_iter\n",
    "from src.datasets.linear_regression import ICLinearRegression\n",
    "from src.utils import parse_dict"
   ]
  },
  {
   "cell_type": "code",
   "execution_count": null,
   "id": "6cebf4ac",
   "metadata": {},
   "outputs": [],
   "source": [
    "base_path = \"/home/bryanpu1/projects/iclr_2026/icl_architecture/scaling_jax/results\"\n",
    "algo_name = \"regression_gpt\"\n",
    "run_name = \"adamw-06-09-25_15_24_07-07442dc2-cd9b-4467-b15d-849adec762d0\"\n",
    "\n",
    "learner_path = os.path.join(base_path, algo_name, run_name)"
   ]
  },
  {
   "cell_type": "code",
   "execution_count": null,
   "id": "90d12628",
   "metadata": {},
   "outputs": [],
   "source": [
    "half_precision = True\n",
    "eval_seed = 40\n",
    "batch_size = 32\n",
    "\n",
    "dtype = jnp.bfloat16 if half_precision else jnp.float32"
   ]
  },
  {
   "cell_type": "code",
   "execution_count": null,
   "id": "f25cc6f4",
   "metadata": {},
   "outputs": [],
   "source": [
    "config_dict = json.load(open(os.path.join(learner_path, \"config.json\"), \"r\"))\n",
    "embed_dim = config_dict[\"model_config\"][\"model_kwargs\"][\"embed_dim\"]\n",
    "\n",
    "last_step = sorted(os.listdir(os.path.join(learner_path, \"models\")))[-1]\n",
    "train_state = dill.load(\n",
    "    open(os.path.join(learner_path, \"models\", last_step), \"rb\")\n",
    ")\n",
    "model = nnx.merge(\n",
    "    train_state.graphdef,\n",
    "    train_state.params,\n",
    "    train_state.rest,\n",
    ")\n",
    "\n",
    "rng = jax.random.PRNGKey(eval_seed)\n",
    "rng, _ = jax.random.split(rng)"
   ]
  },
  {
   "cell_type": "code",
   "execution_count": null,
   "id": "25599d75",
   "metadata": {},
   "outputs": [],
   "source": [
    "dataset_kwargs = parse_dict(config_dict[\"dataset_kwargs\"])\n",
    "dataset = ICLinearRegression(\n",
    "    dataset_kwargs.num_tasks,\n",
    "    dataset_kwargs.num_dims,\n",
    "    dataset_kwargs.context_len,\n",
    "    eval_seed,\n",
    "    dataset_kwargs.train,\n",
    "    dataset_kwargs.input_noise_std,\n",
    "    dataset_kwargs.label_noise_std,\n",
    ")"
   ]
  },
  {
   "cell_type": "code",
   "execution_count": null,
   "id": "ba02390b",
   "metadata": {},
   "outputs": [],
   "source": [
    "data_loader = DataLoader(\n",
    "    dataset,\n",
    "    batch_size=batch_size,\n",
    "    num_workers=0,\n",
    ")\n",
    "data_iter = get_iter(data_loader, None, dtype)"
   ]
  },
  {
   "cell_type": "code",
   "execution_count": null,
   "id": "4cd03f7e",
   "metadata": {},
   "outputs": [],
   "source": [
    "batch = next(data_iter)"
   ]
  },
  {
   "cell_type": "code",
   "execution_count": null,
   "id": "0e3e83c8",
   "metadata": {},
   "outputs": [],
   "source": [
    "batch[\"example\"].shape"
   ]
  },
  {
   "cell_type": "code",
   "execution_count": null,
   "id": "5effb6d6",
   "metadata": {},
   "outputs": [],
   "source": [
    "res = model(batch)"
   ]
  },
  {
   "cell_type": "code",
   "execution_count": null,
   "id": "37252f15",
   "metadata": {},
   "outputs": [],
   "source": [
    "errors = batch[\"target\"] - res"
   ]
  },
  {
   "cell_type": "code",
   "execution_count": null,
   "id": "5599c7a7",
   "metadata": {},
   "outputs": [],
   "source": [
    "import matplotlib.pyplot as plt\n",
    "\n",
    "x_range = range(dataset_kwargs.context_len)\n",
    "error_per_context = np.mean(errors ** 2, axis=1)\n",
    "\n",
    "plt.plot(x_range, error_per_context)\n",
    "    "
   ]
  },
  {
   "cell_type": "code",
   "execution_count": null,
   "id": "c3611966",
   "metadata": {},
   "outputs": [],
   "source": []
  }
 ],
 "metadata": {
  "kernelspec": {
   "display_name": "scaling_jax",
   "language": "python",
   "name": "python3"
  },
  "language_info": {
   "codemirror_mode": {
    "name": "ipython",
    "version": 3
   },
   "file_extension": ".py",
   "mimetype": "text/x-python",
   "name": "python",
   "nbconvert_exporter": "python",
   "pygments_lexer": "ipython3",
   "version": "3.10.16"
  }
 },
 "nbformat": 4,
 "nbformat_minor": 5
}
