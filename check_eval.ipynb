{
 "cells": [
  {
   "cell_type": "code",
   "execution_count": null,
   "id": "19836f00",
   "metadata": {},
   "outputs": [],
   "source": [
    "import dill\n",
    "\n",
    "import matplotlib.pyplot as plt\n",
    "import numpy as np"
   ]
  },
  {
   "cell_type": "code",
   "execution_count": null,
   "id": "969238b2",
   "metadata": {},
   "outputs": [],
   "source": [
    "base_path = \"/home/bryanpu1/projects/aaai_2026/scaling_jax/results\"\n",
    "algo_name = \"xland_ad\"\n",
    "run_name = \"debug-06-02-25_14_46_07-3c1bc77f-9d04-4c25-8356-67dd1919b82a\"\n",
    "\n",
    "algo_name = \"xland_dpt\"\n",
    "run_name = \"debug-06-02-25_14_47_19-f8577fb0-3fb8-4664-8982-64d5985a9961\"\n",
    "\n",
    "algo_name = \"xland_expi\"\n",
    "run_name = \"debug-06-02-25_14_47_55-e68410db-d131-44d5-8720-a660d26eb3f8\"\n",
    "\n",
    "algo_name = \"bandit_ad\"\n",
    "run_name = \"debug-06-05-25_13_19_10-d1262807-a575-490d-abc8-35bae6930c8d\""
   ]
  },
  {
   "cell_type": "code",
   "execution_count": null,
   "id": "51d3c4b3",
   "metadata": {},
   "outputs": [],
   "source": [
    "data = dill.load(open(f\"{base_path}/{algo_name}/{run_name}/eval_info.dill\", \"rb\"))"
   ]
  },
  {
   "cell_type": "code",
   "execution_count": null,
   "id": "fe0cc323",
   "metadata": {},
   "outputs": [],
   "source": [
    "data.keys()"
   ]
  },
  {
   "cell_type": "code",
   "execution_count": null,
   "id": "cad892cb",
   "metadata": {},
   "outputs": [],
   "source": [
    "data[\"act_counts\"]"
   ]
  },
  {
   "cell_type": "code",
   "execution_count": null,
   "id": "14075946",
   "metadata": {},
   "outputs": [],
   "source": [
    "if algo_name.startswith(\"xland\"):\n",
    "    for k, v in data.items():\n",
    "        plt.figure()\n",
    "        plt.plot(range(len(v)), v, label=k)\n",
    "        plt.title(f\"Distribution of returns for {k}\")\n",
    "        plt.xlabel(\"Episode\")\n",
    "        plt.ylabel(\"Return\")\n",
    "        plt.show()\n",
    "elif algo_name.startswith(\"bandit\"):\n",
    "    (num_envs, num_eps) = data[\"episode_length\"].shape\n",
    "    xrange = range(num_eps)\n",
    "    print(data[\"env_params\"])\n",
    "    for env_i in range(num_envs):\n",
    "        plt.plot(xrange, data[\"episode_return\"][env_i], label=env_i)\n",
    "        plt.title(f\"Distribution of returns for {env_i}\")\n",
    "        plt.xlabel(\"Episode\")\n",
    "        plt.ylabel(\"Return\")\n",
    "        plt.show()"
   ]
  },
  {
   "cell_type": "code",
   "execution_count": null,
   "id": "262afedf",
   "metadata": {},
   "outputs": [],
   "source": []
  }
 ],
 "metadata": {
  "kernelspec": {
   "display_name": "aaai_expi",
   "language": "python",
   "name": "python3"
  },
  "language_info": {
   "codemirror_mode": {
    "name": "ipython",
    "version": 3
   },
   "file_extension": ".py",
   "mimetype": "text/x-python",
   "name": "python",
   "nbconvert_exporter": "python",
   "pygments_lexer": "ipython3",
   "version": "3.10.16"
  }
 },
 "nbformat": 4,
 "nbformat_minor": 5
}
