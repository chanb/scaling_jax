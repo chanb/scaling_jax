{
 "cells": [
  {
   "cell_type": "code",
   "execution_count": null,
   "id": "eb067188",
   "metadata": {},
   "outputs": [],
   "source": [
    "import os\n",
    "os.environ[\"JAX_PLATFORM_NAME\"] = \"cpu\""
   ]
  },
  {
   "cell_type": "code",
   "execution_count": null,
   "id": "19836f00",
   "metadata": {},
   "outputs": [],
   "source": [
    "import dill\n",
    "\n",
    "import seaborn as sns\n",
    "import matplotlib.pyplot as plt\n",
    "import numpy as np\n",
    "\n",
    "sns.set(style=\"ticks\")\n",
    "sns.set_theme()"
   ]
  },
  {
   "cell_type": "code",
   "execution_count": null,
   "id": "969238b2",
   "metadata": {},
   "outputs": [],
   "source": [
    "base_path = \"/home/bryanpu1/projects/aaai_2026/scaling_jax/results\"\n",
    "\n",
    "algo_name = \"bandit_ad\"\n",
    "run_name = \"adamw-06-09-25_10_17_25-dd55f7aa-c8f9-49f9-b58c-a8af9d8e6d69\"\n",
    "\n",
    "algo_name = \"bandit_dpt\"\n",
    "run_name = \"adamw-06-09-25_10_12_16-0accc7c0-d4f9-42ae-b70e-8b3c590d90e1\"\n",
    "# run_name = \"adamw-06-10-25_14_11_46-4a5795d8-b591-4af2-96b1-1d247753dc83\"\n",
    "run_name = \"adamw-06-10-25_22_15_07-a934d939-7314-4334-925d-4751dfed506c\"\n",
    "\n",
    "algo_name = \"ns_bandit_ad\"\n",
    "run_name = \"adamw-06-10-25_17_34_41-9f12ef85-c567-4d61-a1f2-dec104e22df1\""
   ]
  },
  {
   "cell_type": "code",
   "execution_count": null,
   "id": "51d3c4b3",
   "metadata": {},
   "outputs": [],
   "source": [
    "data = dill.load(open(f\"{base_path}/{algo_name}/{run_name}/eval_info.dill\", \"rb\"))"
   ]
  },
  {
   "cell_type": "code",
   "execution_count": null,
   "id": "fe0cc323",
   "metadata": {},
   "outputs": [],
   "source": [
    "data.keys()"
   ]
  },
  {
   "cell_type": "code",
   "execution_count": null,
   "id": "efbe6d23",
   "metadata": {},
   "outputs": [],
   "source": [
    "switch_freq = data[\"eval_config\"][\"switch_freq\"]"
   ]
  },
  {
   "cell_type": "code",
   "execution_count": null,
   "id": "14075946",
   "metadata": {},
   "outputs": [],
   "source": [
    "\n",
    "(num_envs, num_eps) = data[\"episode_lengths\"].shape\n",
    "xrange = range(num_eps)\n",
    "\n",
    "num_cols = 5\n",
    "num_rows = int(np.ceil(num_envs / 5))\n",
    "\n",
    "fig, axes = plt.subplots(\n",
    "    num_rows,\n",
    "    num_cols,\n",
    "    figsize=(5 * num_cols, 5 * num_rows),\n",
    "    layout=\"constrained\",\n",
    ")\n",
    "\n",
    "try:\n",
    "    axes = axes.flatten()\n",
    "except:\n",
    "    axes = [axes]\n",
    "\n",
    "for env_i in range(num_envs):\n",
    "    axes[env_i].set_title(f\"Regret for Env {env_i}\")\n",
    "    axes[env_i].set_xlabel(\"Rounds\")\n",
    "    axes[env_i].set_ylabel(\"Regret\")\n",
    "\n",
    "    for task_i in range(int(np.ceil(num_eps / switch_freq))):\n",
    "        rews = np.cumsum(\n",
    "            data[\"episode_returns\"][env_i, task_i * switch_freq:(task_i + 1) * switch_freq],\n",
    "            axis=-1,\n",
    "        )\n",
    "        xrange = np.arange(min(switch_freq, len(rews)))\n",
    "        opt = np.max(data[\"env_params\"][env_i, task_i], axis=-1)\n",
    "        regret = opt - rews / (xrange + 1)\n",
    "        axes[env_i].plot(task_i * switch_freq + xrange, regret)\n",
    "\n",
    "        axes[env_i].axvline(\n",
    "            x=task_i * switch_freq,\n",
    "            label=f\"Task i\" if task_i == 0 and env_i == 0 else \"\",\n",
    "            linestyle=\"--\",\n",
    "            color=\"black\"\n",
    "        )\n",
    "    axes[env_i].set_ylim(0.0, 1.0)\n",
    "\n",
    "fig.legend(\n",
    "    bbox_to_anchor=(0.0, 1.0, 1.0, 0.0),\n",
    "    loc=\"lower center\",\n",
    "    ncols=5,\n",
    "    borderaxespad=0.0,\n",
    "    frameon=True,\n",
    "    fontsize=\"8\", \n",
    ")\n",
    "fig.show()"
   ]
  },
  {
   "cell_type": "code",
   "execution_count": null,
   "id": "f09573a7",
   "metadata": {},
   "outputs": [],
   "source": [
    "print(data[\"action_counts\"])"
   ]
  },
  {
   "cell_type": "code",
   "execution_count": null,
   "id": "0b6cff38",
   "metadata": {},
   "outputs": [],
   "source": [
    "print(np.argmax(data[\"env_params\"], axis=-1))"
   ]
  },
  {
   "cell_type": "code",
   "execution_count": null,
   "id": "4bea1cc9",
   "metadata": {},
   "outputs": [],
   "source": [
    "data[\"env_params\"]"
   ]
  },
  {
   "cell_type": "markdown",
   "id": "d540dd49",
   "metadata": {},
   "source": [
    "## Check policy stochasticity"
   ]
  },
  {
   "cell_type": "code",
   "execution_count": null,
   "id": "262afedf",
   "metadata": {},
   "outputs": [],
   "source": [
    "import optax\n",
    "import jax"
   ]
  },
  {
   "cell_type": "code",
   "execution_count": null,
   "id": "90291d06",
   "metadata": {},
   "outputs": [],
   "source": [
    "action_probs = jax.nn.softmax(data[\"logits\"])\n",
    "entropies = optax.safe_softmax_cross_entropy(data[\"logits\"], action_probs)"
   ]
  },
  {
   "cell_type": "code",
   "execution_count": null,
   "id": "3c1fc38b",
   "metadata": {},
   "outputs": [],
   "source": [
    "np.max(entropies), np.min(entropies)"
   ]
  },
  {
   "cell_type": "code",
   "execution_count": null,
   "id": "ebde3ae1",
   "metadata": {},
   "outputs": [],
   "source": [
    "(num_envs, num_eps) = data[\"episode_lengths\"].shape\n",
    "xrange = range(num_eps)\n",
    "\n",
    "num_cols = 5\n",
    "num_rows = int(np.ceil(num_envs / 5))\n",
    "\n",
    "fig, axes = plt.subplots(\n",
    "    num_rows,\n",
    "    num_cols,\n",
    "    figsize=(5 * num_cols, 5 * num_rows),\n",
    "    layout=\"constrained\",\n",
    ")\n",
    "\n",
    "axes = axes.flatten()\n",
    "\n",
    "for env_i in range(num_envs):\n",
    "    axes[env_i].set_title(f\"Policy Entropy for Env {env_i}\")\n",
    "    axes[env_i].set_xlabel(\"Rounds\")\n",
    "    axes[env_i].set_ylabel(\"Entropy\")\n",
    "\n",
    "    for task_i in range(int(np.ceil(num_eps / switch_freq))):\n",
    "        entropy = entropies[env_i, task_i * switch_freq:(task_i + 1) * switch_freq]\n",
    "        xrange = np.arange(min(switch_freq, len(entropy)))\n",
    "        axes[env_i].plot(task_i * switch_freq + xrange, entropy)\n",
    "\n",
    "        axes[env_i].axvline(\n",
    "            x=task_i * switch_freq,\n",
    "            label=f\"Task i\" if task_i == 0 and env_i == 0 else \"\",\n",
    "            linestyle=\"--\",\n",
    "            color=\"black\"\n",
    "        )\n",
    "\n",
    "fig.legend(\n",
    "    bbox_to_anchor=(0.0, 1.0, 1.0, 0.0),\n",
    "    loc=\"lower center\",\n",
    "    ncols=5,\n",
    "    borderaxespad=0.0,\n",
    "    frameon=True,\n",
    "    fontsize=\"8\", \n",
    ")\n",
    "fig.show()"
   ]
  },
  {
   "cell_type": "code",
   "execution_count": null,
   "id": "1c43227b",
   "metadata": {},
   "outputs": [],
   "source": [
    "data[\"env_params\"]"
   ]
  },
  {
   "cell_type": "code",
   "execution_count": null,
   "id": "a056ef8b",
   "metadata": {},
   "outputs": [],
   "source": []
  }
 ],
 "metadata": {
  "kernelspec": {
   "display_name": "aaai_expi",
   "language": "python",
   "name": "python3"
  },
  "language_info": {
   "codemirror_mode": {
    "name": "ipython",
    "version": 3
   },
   "file_extension": ".py",
   "mimetype": "text/x-python",
   "name": "python",
   "nbconvert_exporter": "python",
   "pygments_lexer": "ipython3",
   "version": "3.10.16"
  }
 },
 "nbformat": 4,
 "nbformat_minor": 5
}
