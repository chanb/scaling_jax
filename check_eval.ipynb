{
 "cells": [
  {
   "cell_type": "code",
   "execution_count": null,
   "id": "19836f00",
   "metadata": {},
   "outputs": [],
   "source": [
    "import dill\n",
    "\n",
    "import matplotlib.pyplot as plt\n",
    "import numpy as np"
   ]
  },
  {
   "cell_type": "code",
   "execution_count": null,
   "id": "969238b2",
   "metadata": {},
   "outputs": [],
   "source": [
    "base_path = \"/home/bryanpu1/projects/aaai_2026/scaling_jax/results\"\n",
    "\n",
    "algo_name = \"bandit_ad\"\n",
    "# No sink + weight decay 1e-4\n",
    "run_name = \"adamw-06-06-25_09_56_26-8373a959-1e98-4fe9-bedb-bd9a3e42a6b5\""
   ]
  },
  {
   "cell_type": "code",
   "execution_count": null,
   "id": "51d3c4b3",
   "metadata": {},
   "outputs": [],
   "source": [
    "data = dill.load(open(f\"{base_path}/{algo_name}/{run_name}/eval_info.dill\", \"rb\"))"
   ]
  },
  {
   "cell_type": "code",
   "execution_count": null,
   "id": "fe0cc323",
   "metadata": {},
   "outputs": [],
   "source": [
    "data.keys()"
   ]
  },
  {
   "cell_type": "code",
   "execution_count": null,
   "id": "14075946",
   "metadata": {},
   "outputs": [],
   "source": [
    "if algo_name.startswith(\"xland\"):\n",
    "    for k, v in data.items():\n",
    "        plt.figure()\n",
    "        plt.plot(range(len(v)), v, label=k)\n",
    "        plt.title(f\"Distribution of returns for {k}\")\n",
    "        plt.xlabel(\"Episode\")\n",
    "        plt.ylabel(\"Return\")\n",
    "        plt.show()\n",
    "elif algo_name.startswith(\"bandit\"):\n",
    "    (num_envs, num_eps) = data[\"episode_lengths\"].shape\n",
    "    xrange = range(num_eps)\n",
    "\n",
    "    num_cols = 5\n",
    "    num_rows = int(np.ceil(num_envs / 5))\n",
    "\n",
    "    fig, axes = plt.subplots(\n",
    "        num_rows,\n",
    "        num_cols,\n",
    "        figsize=(5 * num_cols, 5 * num_rows),\n",
    "        layout=\"constrained\",\n",
    "    )\n",
    "\n",
    "    axes = axes.flatten()\n",
    "\n",
    "    for env_i in range(num_envs):\n",
    "        axes[env_i].set_title(f\"Regret for Env {env_i}\")\n",
    "        axes[env_i].set_xlabel(\"Rounds\")\n",
    "        axes[env_i].set_ylabel(\"Regret\")\n",
    "\n",
    "        for task_i in range(int(np.ceil(num_eps / data[\"switch_freq\"]))):\n",
    "            rews = np.cumsum(\n",
    "                data[\"episode_returns\"][env_i, task_i * data[\"switch_freq\"]:(task_i + 1) * data[\"switch_freq\"]],\n",
    "                axis=-1,\n",
    "            )\n",
    "            xrange = np.arange(min(data[\"switch_freq\"], len(rews)))\n",
    "            opt = (xrange + 1) * np.max(data[\"env_params\"][env_i, task_i], axis=-1)\n",
    "            regret = opt - rews\n",
    "            axes[env_i].plot(task_i * data[\"switch_freq\"] + xrange, regret)\n",
    "\n",
    "            axes[env_i].axvline(\n",
    "                x=task_i * data[\"switch_freq\"],\n",
    "                label=f\"Task i\" if task_i == 0 and env_i == 0 else \"\",\n",
    "                linestyle=\"--\",\n",
    "                color=\"black\"\n",
    "            )\n",
    "\n",
    "    fig.legend(\n",
    "        bbox_to_anchor=(0.0, 1.0, 1.0, 0.0),\n",
    "        loc=\"lower center\",\n",
    "        ncols=5,\n",
    "        borderaxespad=0.0,\n",
    "        frameon=True,\n",
    "        fontsize=\"8\", \n",
    "    )\n",
    "    fig.show()"
   ]
  },
  {
   "cell_type": "code",
   "execution_count": null,
   "id": "ff8a6258",
   "metadata": {},
   "outputs": [],
   "source": [
    "if algo_name.startswith(\"xland\"):\n",
    "    assert 0"
   ]
  },
  {
   "cell_type": "code",
   "execution_count": null,
   "id": "f09573a7",
   "metadata": {},
   "outputs": [],
   "source": [
    "print(data[\"action_counts\"])"
   ]
  },
  {
   "cell_type": "markdown",
   "id": "d540dd49",
   "metadata": {},
   "source": [
    "## Check policy stochasticity"
   ]
  },
  {
   "cell_type": "code",
   "execution_count": null,
   "id": "262afedf",
   "metadata": {},
   "outputs": [],
   "source": [
    "import optax\n",
    "import jax"
   ]
  },
  {
   "cell_type": "code",
   "execution_count": null,
   "id": "90291d06",
   "metadata": {},
   "outputs": [],
   "source": [
    "action_probs = jax.nn.softmax(data[\"logits\"])\n",
    "entropies = optax.safe_softmax_cross_entropy(data[\"logits\"], action_probs)"
   ]
  },
  {
   "cell_type": "code",
   "execution_count": null,
   "id": "0758bad0",
   "metadata": {},
   "outputs": [],
   "source": [
    "action_probs[0, :52, 0]"
   ]
  },
  {
   "cell_type": "code",
   "execution_count": null,
   "id": "3c1fc38b",
   "metadata": {},
   "outputs": [],
   "source": [
    "np.max(entropies), np.min(entropies)"
   ]
  },
  {
   "cell_type": "code",
   "execution_count": null,
   "id": "ebde3ae1",
   "metadata": {},
   "outputs": [],
   "source": [
    "(num_envs, num_eps) = data[\"episode_lengths\"].shape\n",
    "xrange = range(num_eps)\n",
    "\n",
    "num_cols = 5\n",
    "num_rows = int(np.ceil(num_envs / 5))\n",
    "\n",
    "fig, axes = plt.subplots(\n",
    "    num_rows,\n",
    "    num_cols,\n",
    "    figsize=(5 * num_cols, 5 * num_rows),\n",
    "    layout=\"constrained\",\n",
    ")\n",
    "\n",
    "axes = axes.flatten()\n",
    "\n",
    "for env_i in range(num_envs):\n",
    "    axes[env_i].set_title(f\"Policy Entropy for Env {env_i}\")\n",
    "    axes[env_i].set_xlabel(\"Rounds\")\n",
    "    axes[env_i].set_ylabel(\"Entropy\")\n",
    "\n",
    "    for task_i in range(int(np.ceil(num_eps / data[\"switch_freq\"]))):\n",
    "        entropy = entropies[env_i, task_i * data[\"switch_freq\"]:(task_i + 1) * data[\"switch_freq\"]]\n",
    "        xrange = np.arange(min(data[\"switch_freq\"], len(entropy)))\n",
    "        axes[env_i].plot(task_i * data[\"switch_freq\"] + xrange, entropy)\n",
    "\n",
    "        axes[env_i].axvline(\n",
    "            x=task_i * data[\"switch_freq\"],\n",
    "            label=f\"Task i\" if task_i == 0 and env_i == 0 else \"\",\n",
    "            linestyle=\"--\",\n",
    "            color=\"black\"\n",
    "        )\n",
    "\n",
    "fig.legend(\n",
    "    bbox_to_anchor=(0.0, 1.0, 1.0, 0.0),\n",
    "    loc=\"lower center\",\n",
    "    ncols=5,\n",
    "    borderaxespad=0.0,\n",
    "    frameon=True,\n",
    "    fontsize=\"8\", \n",
    ")\n",
    "fig.show()"
   ]
  },
  {
   "cell_type": "code",
   "execution_count": null,
   "id": "1c43227b",
   "metadata": {},
   "outputs": [],
   "source": []
  },
  {
   "cell_type": "code",
   "execution_count": null,
   "id": "d4521d87",
   "metadata": {},
   "outputs": [],
   "source": []
  }
 ],
 "metadata": {
  "kernelspec": {
   "display_name": "aaai_expi",
   "language": "python",
   "name": "python3"
  },
  "language_info": {
   "codemirror_mode": {
    "name": "ipython",
    "version": 3
   },
   "file_extension": ".py",
   "mimetype": "text/x-python",
   "name": "python",
   "nbconvert_exporter": "python",
   "pygments_lexer": "ipython3",
   "version": "3.10.16"
  }
 },
 "nbformat": 4,
 "nbformat_minor": 5
}
