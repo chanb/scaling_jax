{
 "cells": [
  {
   "cell_type": "code",
   "execution_count": null,
   "id": "19836f00",
   "metadata": {},
   "outputs": [],
   "source": [
    "import dill\n",
    "\n",
    "import matplotlib.pyplot as plt\n",
    "import numpy as np"
   ]
  },
  {
   "cell_type": "code",
   "execution_count": null,
   "id": "969238b2",
   "metadata": {},
   "outputs": [],
   "source": [
    "base_path = \"/home/bryanpu1/projects/aaai_2026/scaling_jax/results\"\n",
    "algo_name = \"xland_ad\"\n",
    "run_name = \"debug-06-02-25_14_46_07-3c1bc77f-9d04-4c25-8356-67dd1919b82a\"\n",
    "\n",
    "algo_name = \"xland_dpt\"\n",
    "run_name = \"debug-06-02-25_14_47_19-f8577fb0-3fb8-4664-8982-64d5985a9961\"\n",
    "\n",
    "algo_name = \"xland_expi\"\n",
    "run_name = \"debug-06-02-25_14_47_55-e68410db-d131-44d5-8720-a660d26eb3f8\"\n",
    "\n",
    "algo_name = \"bandit_ad\"\n",
    "run_name = \"debug-06-05-25_13_19_10-d1262807-a575-490d-abc8-35bae6930c8d\""
   ]
  },
  {
   "cell_type": "code",
   "execution_count": null,
   "id": "51d3c4b3",
   "metadata": {},
   "outputs": [],
   "source": [
    "data = dill.load(open(f\"{base_path}/{algo_name}/{run_name}/eval_info.dill\", \"rb\"))"
   ]
  },
  {
   "cell_type": "code",
   "execution_count": null,
   "id": "fe0cc323",
   "metadata": {},
   "outputs": [],
   "source": [
    "data.keys()"
   ]
  },
  {
   "cell_type": "code",
   "execution_count": null,
   "id": "cad892cb",
   "metadata": {},
   "outputs": [],
   "source": [
    "data[\"action_counts\"]"
   ]
  },
  {
   "cell_type": "code",
   "execution_count": null,
   "id": "0743a6c2",
   "metadata": {},
   "outputs": [],
   "source": [
    "data[\"env_params\"].shape"
   ]
  },
  {
   "cell_type": "code",
   "execution_count": null,
   "id": "14075946",
   "metadata": {},
   "outputs": [],
   "source": [
    "if algo_name.startswith(\"xland\"):\n",
    "    for k, v in data.items():\n",
    "        plt.figure()\n",
    "        plt.plot(range(len(v)), v, label=k)\n",
    "        plt.title(f\"Distribution of returns for {k}\")\n",
    "        plt.xlabel(\"Episode\")\n",
    "        plt.ylabel(\"Return\")\n",
    "        plt.show()\n",
    "elif algo_name.startswith(\"bandit\"):\n",
    "    (num_envs, num_eps) = data[\"episode_lengths\"].shape\n",
    "    xrange = range(num_eps)\n",
    "\n",
    "    num_cols = 5\n",
    "    num_rows = int(np.ceil(num_envs / 5))\n",
    "\n",
    "    fig, axes = plt.subplots(\n",
    "        num_rows,\n",
    "        num_cols,\n",
    "        figsize=(5 * num_cols, 5 * num_rows),\n",
    "        layout=\"constrained\",\n",
    "    )\n",
    "\n",
    "    axes = axes.flatten()\n",
    "\n",
    "    for env_i in range(num_envs):\n",
    "        axes[env_i].set_title(f\"Regret for Env {env_i}\")\n",
    "        axes[env_i].set_xlabel(\"Rounds\")\n",
    "        axes[env_i].set_ylabel(\"Regret\")\n",
    "\n",
    "        for task_i in range(int(np.ceil(num_eps / data[\"switch_freq\"]))):\n",
    "            opt = (np.arange(data[\"switch_freq\"]) + 1) * np.max(data[\"env_params\"][env_i, task_i], axis=-1)\n",
    "            rews = np.cumsum(\n",
    "                data[\"episode_returns\"][env_i, task_i * data[\"switch_freq\"]:(task_i + 1) * data[\"switch_freq\"]],\n",
    "                axis=-1,\n",
    "            )\n",
    "            regret = opt - rews\n",
    "            axes[env_i].plot(task_i * data[\"switch_freq\"] + np.arange(data[\"switch_freq\"]), regret)\n",
    "\n",
    "            axes[env_i].axvline(\n",
    "                x=task_i * data[\"switch_freq\"],\n",
    "                label=f\"Task i\" if task_i == 0 and env_i == 0 else \"\",\n",
    "                linestyle=\"--\",\n",
    "                color=\"black\"\n",
    "            )\n",
    "\n",
    "    fig.legend(\n",
    "        bbox_to_anchor=(0.0, 1.0, 1.0, 0.0),\n",
    "        loc=\"lower center\",\n",
    "        ncols=5,\n",
    "        borderaxespad=0.0,\n",
    "        frameon=True,\n",
    "        fontsize=\"8\", \n",
    "    )\n",
    "    fig.show()"
   ]
  },
  {
   "cell_type": "code",
   "execution_count": null,
   "id": "262afedf",
   "metadata": {},
   "outputs": [],
   "source": []
  }
 ],
 "metadata": {
  "kernelspec": {
   "display_name": "aaai_expi",
   "language": "python",
   "name": "python3"
  },
  "language_info": {
   "codemirror_mode": {
    "name": "ipython",
    "version": 3
   },
   "file_extension": ".py",
   "mimetype": "text/x-python",
   "name": "python",
   "nbconvert_exporter": "python",
   "pygments_lexer": "ipython3",
   "version": "3.10.16"
  }
 },
 "nbformat": 4,
 "nbformat_minor": 5
}
